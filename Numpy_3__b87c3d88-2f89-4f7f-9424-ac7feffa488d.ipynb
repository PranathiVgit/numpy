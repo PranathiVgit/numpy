{
 "cells": [
  {
   "cell_type": "code",
   "execution_count": 19,
   "id": "5c65ab0e",
   "metadata": {},
   "outputs": [],
   "source": [
    "import numpy as np"
   ]
  },
  {
   "cell_type": "code",
   "execution_count": 3,
   "id": "d43f96e1",
   "metadata": {},
   "outputs": [],
   "source": [
    "arr=np.array([1,2,3,4,5,6])"
   ]
  },
  {
   "cell_type": "code",
   "execution_count": 4,
   "id": "63dd1dc8",
   "metadata": {},
   "outputs": [
    {
     "data": {
      "text/plain": [
       "numpy.ndarray"
      ]
     },
     "execution_count": 4,
     "metadata": {},
     "output_type": "execute_result"
    }
   ],
   "source": [
    "type(arr)"
   ]
  },
  {
   "cell_type": "code",
   "execution_count": 6,
   "id": "0fa77598",
   "metadata": {},
   "outputs": [],
   "source": [
    "np_arr=np.arange(1,10)"
   ]
  },
  {
   "cell_type": "code",
   "execution_count": 7,
   "id": "7c4d6e75",
   "metadata": {},
   "outputs": [
    {
     "name": "stdout",
     "output_type": "stream",
     "text": [
      "[1 2 3 4 5 6 7 8 9]\n"
     ]
    }
   ],
   "source": [
    "print(np_arr)"
   ]
  },
  {
   "cell_type": "code",
   "execution_count": null,
   "id": "5e96a6ce",
   "metadata": {},
   "outputs": [],
   "source": []
  },
  {
   "cell_type": "code",
   "execution_count": 8,
   "id": "4edfd01d",
   "metadata": {},
   "outputs": [
    {
     "name": "stdout",
     "output_type": "stream",
     "text": [
      "[0, 1, 2, 3, 4, 5, 6, 7, 8, 9, 10, 11, 12, 13, 14, 15, 16, 17, 18, 19, 20, 21, 22, 23, 24, 25, 26, 27, 28, 29, 30, 31, 32, 33, 34, 35, 36, 37, 38, 39, 40, 41, 42, 43, 44, 45, 46, 47, 48, 49, 50, 51, 52, 53, 54, 55, 56, 57, 58, 59, 60, 61, 62, 63, 64, 65, 66, 67, 68, 69, 70, 71, 72, 73, 74, 75, 76, 77, 78, 79, 80, 81, 82, 83, 84, 85, 86, 87, 88, 89, 90, 91, 92, 93, 94, 95, 96, 97, 98, 99]\n",
      "[ 0  1  2  3  4  5  6  7  8  9 10 11 12 13 14 15 16 17 18 19 20 21 22 23\n",
      " 24 25 26 27 28 29 30 31 32 33 34 35 36 37 38 39 40 41 42 43 44 45 46 47\n",
      " 48 49 50 51 52 53 54 55 56 57 58 59 60 61 62 63 64 65 66 67 68 69 70 71\n",
      " 72 73 74 75 76 77 78 79 80 81 82 83 84 85 86 87 88 89 90 91 92 93 94 95\n",
      " 96 97 98 99]\n"
     ]
    }
   ],
   "source": [
    "l1=[]\n",
    "for i in range(100):\n",
    "    l1.append(i)\n",
    "np_arr=np.arange(100)\n",
    "print(l1)\n",
    "print(np_arr)"
   ]
  },
  {
   "cell_type": "code",
   "execution_count": null,
   "id": "5556b693",
   "metadata": {},
   "outputs": [],
   "source": []
  },
  {
   "cell_type": "code",
   "execution_count": 10,
   "id": "9d392462",
   "metadata": {},
   "outputs": [],
   "source": [
    "l2=[]\n",
    "for i in l1:\n",
    "    l2.append(i*5)"
   ]
  },
  {
   "cell_type": "code",
   "execution_count": 12,
   "id": "31f7dc73",
   "metadata": {},
   "outputs": [
    {
     "data": {
      "text/plain": [
       "array([  0,   5,  10,  15,  20,  25,  30,  35,  40,  45,  50,  55,  60,\n",
       "        65,  70,  75,  80,  85,  90,  95, 100, 105, 110, 115, 120, 125,\n",
       "       130, 135, 140, 145, 150, 155, 160, 165, 170, 175, 180, 185, 190,\n",
       "       195, 200, 205, 210, 215, 220, 225, 230, 235, 240, 245, 250, 255,\n",
       "       260, 265, 270, 275, 280, 285, 290, 295, 300, 305, 310, 315, 320,\n",
       "       325, 330, 335, 340, 345, 350, 355, 360, 365, 370, 375, 380, 385,\n",
       "       390, 395, 400, 405, 410, 415, 420, 425, 430, 435, 440, 445, 450,\n",
       "       455, 460, 465, 470, 475, 480, 485, 490, 495])"
      ]
     },
     "execution_count": 12,
     "metadata": {},
     "output_type": "execute_result"
    }
   ],
   "source": [
    "np_arr*5"
   ]
  },
  {
   "cell_type": "code",
   "execution_count": 24,
   "id": "f9be4eb5",
   "metadata": {},
   "outputs": [
    {
     "data": {
      "text/plain": [
       "100"
      ]
     },
     "execution_count": 24,
     "metadata": {},
     "output_type": "execute_result"
    }
   ],
   "source": [
    "np_arr.size"
   ]
  },
  {
   "cell_type": "code",
   "execution_count": 23,
   "id": "c057fda2",
   "metadata": {},
   "outputs": [
    {
     "name": "stdout",
     "output_type": "stream",
     "text": [
      "4\n",
      "400\n"
     ]
    }
   ],
   "source": [
    "print(np_arr.itemsize)\n",
    "print(np_arr.itemsize*np_arr.size)"
   ]
  },
  {
   "cell_type": "code",
   "execution_count": 25,
   "id": "360462cf",
   "metadata": {},
   "outputs": [
    {
     "name": "stdout",
     "output_type": "stream",
     "text": [
      "28\n",
      "2800\n"
     ]
    }
   ],
   "source": [
    "import sys\n",
    "print(sys.getsizeof(l1[0]))\n",
    "print(sys.getsizeof(l1[0])*len(l1))"
   ]
  },
  {
   "cell_type": "code",
   "execution_count": 27,
   "id": "03be5662",
   "metadata": {},
   "outputs": [],
   "source": [
    "a1=[1,2,3,4]\n",
    "b1=[1,2,3,4]\n",
    " "
   ]
  },
  {
   "cell_type": "code",
   "execution_count": 28,
   "id": "9473e32e",
   "metadata": {},
   "outputs": [],
   "source": [
    "l_c=[]\n",
    "for i in range(len(a1)):\n",
    "    l_c.append(a1[i]+b1[i])"
   ]
  },
  {
   "cell_type": "code",
   "execution_count": 30,
   "id": "647bf5ca",
   "metadata": {},
   "outputs": [
    {
     "data": {
      "text/plain": [
       "[2, 4, 6, 8]"
      ]
     },
     "execution_count": 30,
     "metadata": {},
     "output_type": "execute_result"
    }
   ],
   "source": [
    "l_c"
   ]
  },
  {
   "cell_type": "code",
   "execution_count": 31,
   "id": "f97b49e9",
   "metadata": {},
   "outputs": [
    {
     "data": {
      "text/plain": [
       "[1, 2, 3, 4, 1, 2, 3, 4]"
      ]
     },
     "execution_count": 31,
     "metadata": {},
     "output_type": "execute_result"
    }
   ],
   "source": [
    "a1+b1"
   ]
  },
  {
   "cell_type": "code",
   "execution_count": 33,
   "id": "a22ef769",
   "metadata": {},
   "outputs": [
    {
     "data": {
      "text/plain": [
       "array([2, 4, 6, 8])"
      ]
     },
     "execution_count": 33,
     "metadata": {},
     "output_type": "execute_result"
    }
   ],
   "source": [
    "a1=np.array([1,2,3,4])\n",
    "b1=np.array([1,2,3,4])\n",
    "a1+b1"
   ]
  },
  {
   "cell_type": "code",
   "execution_count": 34,
   "id": "d91bbb12",
   "metadata": {},
   "outputs": [],
   "source": [
    "import time\n",
    "size=10000\n",
    "\n",
    "def time_using_list():\n",
    "    t1=time.time()\n",
    "    a=list(range(size))\n",
    "    b=list(range(size))\n",
    "    c=[a[i]+ b[i] for i in range(size)]\n",
    "    t2=time.time()\n",
    "    return (t2-t1)\n",
    "\n",
    "def time_using_numpy_arr():\n",
    "    t1=time.time()\n",
    "    a=np.arange(size)\n",
    "    b=np.arange(size)\n",
    "    c=a+b\n",
    "    t2=time.time()\n",
    "    return (t2-t1)"
   ]
  },
  {
   "cell_type": "code",
   "execution_count": 35,
   "id": "30ace6aa",
   "metadata": {},
   "outputs": [],
   "source": [
    "t_list=time_using_list()\n",
    "t_arr=time_using_numpy_arr()"
   ]
  },
  {
   "cell_type": "code",
   "execution_count": 36,
   "id": "1ed09674",
   "metadata": {},
   "outputs": [
    {
     "name": "stdout",
     "output_type": "stream",
     "text": [
      "list time  3.0336380004882812\n",
      "arr time  1.0106563568115234\n"
     ]
    }
   ],
   "source": [
    "print(\"list time \",t_list*1000)\n",
    "print(\"arr time \", t_arr*1000)"
   ]
  },
  {
   "cell_type": "code",
   "execution_count": null,
   "id": "57322bb5",
   "metadata": {},
   "outputs": [],
   "source": [
    "# Memory Efficient\n",
    "#  Faster \n",
    "# Have more functinality than list"
   ]
  },
  {
   "cell_type": "code",
   "execution_count": 43,
   "id": "69b25551",
   "metadata": {},
   "outputs": [],
   "source": [
    "import numpy as np"
   ]
  },
  {
   "cell_type": "code",
   "execution_count": 44,
   "id": "57dc59f0",
   "metadata": {},
   "outputs": [
    {
     "name": "stdout",
     "output_type": "stream",
     "text": [
      "[1 2 3 4 5]\n"
     ]
    }
   ],
   "source": [
    "l1=[1,2,3,4,5]\n",
    "arr=np.array(l1)\n",
    "print(arr)"
   ]
  },
  {
   "cell_type": "code",
   "execution_count": 46,
   "id": "d811429d",
   "metadata": {},
   "outputs": [
    {
     "name": "stdout",
     "output_type": "stream",
     "text": [
      "<class 'numpy.ndarray'>\n"
     ]
    }
   ],
   "source": [
    "print(type(arr))"
   ]
  },
  {
   "cell_type": "code",
   "execution_count": 48,
   "id": "0bb2de9d",
   "metadata": {},
   "outputs": [
    {
     "name": "stdout",
     "output_type": "stream",
     "text": [
      "[1 2 3 7 1 4 5]\n",
      "<class 'numpy.ndarray'>\n"
     ]
    }
   ],
   "source": [
    "l1=[1,2,3,\"7\",True,4,5]\n",
    "arr=np.array(l1, dtype=int)\n",
    "print(arr)\n",
    "print(type(arr))"
   ]
  },
  {
   "cell_type": "code",
   "execution_count": 50,
   "id": "a4d8307c",
   "metadata": {},
   "outputs": [
    {
     "data": {
      "text/plain": [
       "[1, 2, 3, '7', True, 4, 5]"
      ]
     },
     "execution_count": 50,
     "metadata": {},
     "output_type": "execute_result"
    }
   ],
   "source": [
    "l1"
   ]
  },
  {
   "cell_type": "code",
   "execution_count": null,
   "id": "379178a9",
   "metadata": {},
   "outputs": [],
   "source": [
    "# np.ones()\n",
    "# np.zeros()\n",
    "# np.full()\n",
    "# np.empty()"
   ]
  },
  {
   "cell_type": "code",
   "execution_count": 53,
   "id": "535a17fd",
   "metadata": {},
   "outputs": [
    {
     "data": {
      "text/plain": [
       "array([1, 1, 1, 1])"
      ]
     },
     "execution_count": 53,
     "metadata": {},
     "output_type": "execute_result"
    }
   ],
   "source": [
    "np.ones(4,dtype=int)"
   ]
  },
  {
   "cell_type": "code",
   "execution_count": 62,
   "id": "e4e470d7",
   "metadata": {},
   "outputs": [
    {
     "data": {
      "text/plain": [
       "array([[1, 1, 1],\n",
       "       [1, 1, 1]])"
      ]
     },
     "execution_count": 62,
     "metadata": {},
     "output_type": "execute_result"
    }
   ],
   "source": [
    "np.ones((2,3),dtype=int)"
   ]
  },
  {
   "cell_type": "code",
   "execution_count": 64,
   "id": "92d2290a",
   "metadata": {},
   "outputs": [
    {
     "data": {
      "text/plain": [
       "array([0, 0, 0, 0, 0])"
      ]
     },
     "execution_count": 64,
     "metadata": {},
     "output_type": "execute_result"
    }
   ],
   "source": [
    "np.zeros(5,dtype=int)"
   ]
  },
  {
   "cell_type": "code",
   "execution_count": 54,
   "id": "2334825b",
   "metadata": {},
   "outputs": [
    {
     "data": {
      "text/plain": [
       "array([[[0, 0, 0],\n",
       "        [0, 0, 0],\n",
       "        [0, 0, 0],\n",
       "        [0, 0, 0],\n",
       "        [0, 0, 0]],\n",
       "\n",
       "       [[0, 0, 0],\n",
       "        [0, 0, 0],\n",
       "        [0, 0, 0],\n",
       "        [0, 0, 0],\n",
       "        [0, 0, 0]]])"
      ]
     },
     "execution_count": 54,
     "metadata": {},
     "output_type": "execute_result"
    }
   ],
   "source": [
    "np.zeros((2,5,3),dtype=int)"
   ]
  },
  {
   "cell_type": "code",
   "execution_count": 58,
   "id": "05e49dac",
   "metadata": {},
   "outputs": [
    {
     "data": {
      "text/plain": [
       "array([[7, 7, 7, 7, 7],\n",
       "       [7, 7, 7, 7, 7]])"
      ]
     },
     "execution_count": 58,
     "metadata": {},
     "output_type": "execute_result"
    }
   ],
   "source": [
    "np.full((2,5),7)"
   ]
  },
  {
   "cell_type": "code",
   "execution_count": 67,
   "id": "822081f4",
   "metadata": {},
   "outputs": [
    {
     "data": {
      "text/plain": [
       "array([[1.31815490e-311, 4.39718425e-322, 0.00000000e+000,\n",
       "        0.00000000e+000],\n",
       "       [8.34441742e-308, 1.16095484e-028, 8.89492733e+252,\n",
       "        1.49435797e+248],\n",
       "       [8.89492733e+252, 9.26740402e+242, 2.35707505e+257,\n",
       "        1.89130774e+219],\n",
       "       [2.03309747e-110, 6.48224637e+170, 3.67145870e+228,\n",
       "        1.99683578e-052]])"
      ]
     },
     "execution_count": 67,
     "metadata": {},
     "output_type": "execute_result"
    }
   ],
   "source": [
    "np.empty((4,4))"
   ]
  },
  {
   "cell_type": "code",
   "execution_count": null,
   "id": "dfbe033a",
   "metadata": {},
   "outputs": [],
   "source": [
    "# arange\n",
    "# linspace (linear space)"
   ]
  },
  {
   "cell_type": "code",
   "execution_count": 97,
   "id": "6cd095f1",
   "metadata": {},
   "outputs": [
    {
     "data": {
      "text/plain": [
       "array([1, 3, 5, 7, 9])"
      ]
     },
     "execution_count": 97,
     "metadata": {},
     "output_type": "execute_result"
    }
   ],
   "source": [
    "np.arange(1,10,2)"
   ]
  },
  {
   "cell_type": "code",
   "execution_count": 22,
   "id": "d15338ef",
   "metadata": {},
   "outputs": [],
   "source": [
    "arr1=np.linspace(1,10,50)"
   ]
  },
  {
   "cell_type": "code",
   "execution_count": 23,
   "id": "2e3263ce",
   "metadata": {},
   "outputs": [
    {
     "data": {
      "text/plain": [
       "array([ 1.        ,  1.18367347,  1.36734694,  1.55102041,  1.73469388,\n",
       "        1.91836735,  2.10204082,  2.28571429,  2.46938776,  2.65306122,\n",
       "        2.83673469,  3.02040816,  3.20408163,  3.3877551 ,  3.57142857,\n",
       "        3.75510204,  3.93877551,  4.12244898,  4.30612245,  4.48979592,\n",
       "        4.67346939,  4.85714286,  5.04081633,  5.2244898 ,  5.40816327,\n",
       "        5.59183673,  5.7755102 ,  5.95918367,  6.14285714,  6.32653061,\n",
       "        6.51020408,  6.69387755,  6.87755102,  7.06122449,  7.24489796,\n",
       "        7.42857143,  7.6122449 ,  7.79591837,  7.97959184,  8.16326531,\n",
       "        8.34693878,  8.53061224,  8.71428571,  8.89795918,  9.08163265,\n",
       "        9.26530612,  9.44897959,  9.63265306,  9.81632653, 10.        ])"
      ]
     },
     "execution_count": 23,
     "metadata": {},
     "output_type": "execute_result"
    }
   ],
   "source": [
    "arr1"
   ]
  },
  {
   "cell_type": "code",
   "execution_count": 68,
   "id": "c88ac3b3",
   "metadata": {},
   "outputs": [
    {
     "data": {
      "text/plain": [
       "array([[1, 0, 0, 0],\n",
       "       [0, 1, 0, 0],\n",
       "       [0, 0, 1, 0],\n",
       "       [0, 0, 0, 1]])"
      ]
     },
     "execution_count": 68,
     "metadata": {},
     "output_type": "execute_result"
    }
   ],
   "source": [
    "np.identity(4,dtype=int)"
   ]
  },
  {
   "cell_type": "code",
   "execution_count": 118,
   "id": "4c33c4bf",
   "metadata": {},
   "outputs": [
    {
     "data": {
      "text/plain": [
       "array([[0, 0, 0, 1],\n",
       "       [0, 0, 1, 0],\n",
       "       [0, 1, 0, 0],\n",
       "       [1, 0, 0, 0]])"
      ]
     },
     "execution_count": 118,
     "metadata": {},
     "output_type": "execute_result"
    }
   ],
   "source": [
    "np.flipud(np.identity(4,dtype=int))"
   ]
  },
  {
   "cell_type": "code",
   "execution_count": 69,
   "id": "3101b771",
   "metadata": {},
   "outputs": [
    {
     "data": {
      "text/plain": [
       "array([[1, 0, 0, 0, 0, 0],\n",
       "       [0, 1, 0, 0, 0, 0],\n",
       "       [0, 0, 1, 0, 0, 0],\n",
       "       [0, 0, 0, 1, 0, 0],\n",
       "       [0, 0, 0, 0, 1, 0],\n",
       "       [0, 0, 0, 0, 0, 1],\n",
       "       [0, 0, 0, 0, 0, 0]])"
      ]
     },
     "execution_count": 69,
     "metadata": {},
     "output_type": "execute_result"
    }
   ],
   "source": [
    "np.eye(7,6,dtype=int)"
   ]
  },
  {
   "cell_type": "code",
   "execution_count": 77,
   "id": "faf41205",
   "metadata": {},
   "outputs": [
    {
     "data": {
      "text/plain": [
       "array([[0.57855892, 0.99680377, 0.31264624, 0.11964157, 0.51256725],\n",
       "       [0.18823172, 0.8873931 , 0.6595476 , 0.27508953, 0.8753029 ]])"
      ]
     },
     "execution_count": 77,
     "metadata": {},
     "output_type": "execute_result"
    }
   ],
   "source": [
    "np.random.rand(2,5)"
   ]
  },
  {
   "cell_type": "code",
   "execution_count": 81,
   "id": "406a5e5d",
   "metadata": {},
   "outputs": [],
   "source": [
    "arr=np.random.randint(5,10,size=(2,3))"
   ]
  },
  {
   "cell_type": "code",
   "execution_count": 82,
   "id": "7248a610",
   "metadata": {},
   "outputs": [
    {
     "data": {
      "text/plain": [
       "array([[6, 5, 8],\n",
       "       [7, 8, 5]])"
      ]
     },
     "execution_count": 82,
     "metadata": {},
     "output_type": "execute_result"
    }
   ],
   "source": [
    "arr"
   ]
  },
  {
   "cell_type": "code",
   "execution_count": 83,
   "id": "fa056022",
   "metadata": {},
   "outputs": [
    {
     "data": {
      "text/plain": [
       "(2, 3)"
      ]
     },
     "execution_count": 83,
     "metadata": {},
     "output_type": "execute_result"
    }
   ],
   "source": [
    "arr.shape"
   ]
  },
  {
   "cell_type": "code",
   "execution_count": 84,
   "id": "f43843d0",
   "metadata": {},
   "outputs": [
    {
     "data": {
      "text/plain": [
       "2"
      ]
     },
     "execution_count": 84,
     "metadata": {},
     "output_type": "execute_result"
    }
   ],
   "source": [
    "arr.ndim"
   ]
  },
  {
   "cell_type": "code",
   "execution_count": 85,
   "id": "45a16575",
   "metadata": {},
   "outputs": [
    {
     "data": {
      "text/plain": [
       "dtype('int32')"
      ]
     },
     "execution_count": 85,
     "metadata": {},
     "output_type": "execute_result"
    }
   ],
   "source": [
    "arr.dtype"
   ]
  },
  {
   "cell_type": "code",
   "execution_count": 86,
   "id": "8c6e4848",
   "metadata": {},
   "outputs": [
    {
     "data": {
      "text/plain": [
       "array([[6., 5., 8.],\n",
       "       [7., 8., 5.]])"
      ]
     },
     "execution_count": 86,
     "metadata": {},
     "output_type": "execute_result"
    }
   ],
   "source": [
    "arr.astype('float')"
   ]
  },
  {
   "cell_type": "code",
   "execution_count": 88,
   "id": "31b22b5f",
   "metadata": {},
   "outputs": [],
   "source": [
    "arr2=np.arange(1,10)"
   ]
  },
  {
   "cell_type": "code",
   "execution_count": 11,
   "id": "cdba544f",
   "metadata": {},
   "outputs": [
    {
     "data": {
      "text/plain": [
       "array([1, 2, 3, 4, 5, 6, 7, 8, 9])"
      ]
     },
     "execution_count": 11,
     "metadata": {},
     "output_type": "execute_result"
    }
   ],
   "source": [
    "arr2"
   ]
  },
  {
   "cell_type": "code",
   "execution_count": 12,
   "id": "2af915b0",
   "metadata": {},
   "outputs": [
    {
     "data": {
      "text/plain": [
       "array([3, 4, 5])"
      ]
     },
     "execution_count": 12,
     "metadata": {},
     "output_type": "execute_result"
    }
   ],
   "source": [
    "arr2[2:5]"
   ]
  },
  {
   "cell_type": "code",
   "execution_count": 90,
   "id": "77eb826d",
   "metadata": {},
   "outputs": [
    {
     "data": {
      "text/plain": [
       "array([1, 3, 5, 7, 9])"
      ]
     },
     "execution_count": 90,
     "metadata": {},
     "output_type": "execute_result"
    }
   ],
   "source": [
    "arr2[::2]"
   ]
  },
  {
   "cell_type": "code",
   "execution_count": 14,
   "id": "18de15ad",
   "metadata": {},
   "outputs": [],
   "source": [
    "random_arr=np.random.randint(1,20,(2,3))"
   ]
  },
  {
   "cell_type": "code",
   "execution_count": 15,
   "id": "f8f5ab65",
   "metadata": {},
   "outputs": [
    {
     "data": {
      "text/plain": [
       "array([[13, 19,  4],\n",
       "       [10,  1,  5]])"
      ]
     },
     "execution_count": 15,
     "metadata": {},
     "output_type": "execute_result"
    }
   ],
   "source": [
    "random_arr"
   ]
  },
  {
   "cell_type": "code",
   "execution_count": 23,
   "id": "83f46190",
   "metadata": {},
   "outputs": [
    {
     "data": {
      "text/plain": [
       "array([[13, 19]])"
      ]
     },
     "execution_count": 23,
     "metadata": {},
     "output_type": "execute_result"
    }
   ],
   "source": [
    "random_arr[0:1,0:2]"
   ]
  },
  {
   "cell_type": "code",
   "execution_count": 95,
   "id": "97408980",
   "metadata": {},
   "outputs": [],
   "source": [
    "random_arr=np.random.randint(1,20,(3,3))"
   ]
  },
  {
   "cell_type": "code",
   "execution_count": 96,
   "id": "bdc8b33a",
   "metadata": {},
   "outputs": [
    {
     "data": {
      "text/plain": [
       "array([[ 6, 15,  6],\n",
       "       [ 1, 15, 12],\n",
       "       [10,  5, 13]])"
      ]
     },
     "execution_count": 96,
     "metadata": {},
     "output_type": "execute_result"
    }
   ],
   "source": [
    "random_arr"
   ]
  },
  {
   "cell_type": "code",
   "execution_count": 101,
   "id": "688913b3",
   "metadata": {},
   "outputs": [],
   "source": [
    "sliced=random_arr[0:2,1:2]"
   ]
  },
  {
   "cell_type": "code",
   "execution_count": 103,
   "id": "8bee7ea1",
   "metadata": {},
   "outputs": [
    {
     "data": {
      "text/plain": [
       "array([[15],\n",
       "       [15]])"
      ]
     },
     "execution_count": 103,
     "metadata": {},
     "output_type": "execute_result"
    }
   ],
   "source": [
    "sliced"
   ]
  },
  {
   "cell_type": "code",
   "execution_count": 30,
   "id": "1c5dc6aa",
   "metadata": {},
   "outputs": [],
   "source": [
    "random_arr=np.random.randint(1,20,(4,4))"
   ]
  },
  {
   "cell_type": "code",
   "execution_count": 31,
   "id": "88f72fc9",
   "metadata": {},
   "outputs": [
    {
     "data": {
      "text/plain": [
       "array([[11, 14,  6,  5],\n",
       "       [16,  3,  7, 12],\n",
       "       [ 5,  9, 16, 14],\n",
       "       [ 7,  9,  5, 17]])"
      ]
     },
     "execution_count": 31,
     "metadata": {},
     "output_type": "execute_result"
    }
   ],
   "source": [
    "random_arr"
   ]
  },
  {
   "cell_type": "code",
   "execution_count": 105,
   "id": "c780034f",
   "metadata": {},
   "outputs": [
    {
     "name": "stdout",
     "output_type": "stream",
     "text": [
      "[2, 3, 4, 5, 6, 7]\n"
     ]
    }
   ],
   "source": [
    "l1=[1,2,3,4,5,6]\n",
    "print([i+1 for i in l1])"
   ]
  },
  {
   "cell_type": "code",
   "execution_count": 106,
   "id": "7f3f55e7",
   "metadata": {},
   "outputs": [],
   "source": [
    "arr1=np.arange(1,7)"
   ]
  },
  {
   "cell_type": "code",
   "execution_count": 107,
   "id": "ee925079",
   "metadata": {},
   "outputs": [
    {
     "data": {
      "text/plain": [
       "array([1, 2, 3, 4, 5, 6])"
      ]
     },
     "execution_count": 107,
     "metadata": {},
     "output_type": "execute_result"
    }
   ],
   "source": [
    "arr1"
   ]
  },
  {
   "cell_type": "code",
   "execution_count": 108,
   "id": "8376e798",
   "metadata": {},
   "outputs": [
    {
     "data": {
      "text/plain": [
       "array([2, 3, 4, 5, 6, 7])"
      ]
     },
     "execution_count": 108,
     "metadata": {},
     "output_type": "execute_result"
    }
   ],
   "source": [
    "arr1+1"
   ]
  },
  {
   "cell_type": "code",
   "execution_count": 110,
   "id": "9c9df300",
   "metadata": {},
   "outputs": [],
   "source": [
    "arr2=np.arange(1,7)"
   ]
  },
  {
   "cell_type": "code",
   "execution_count": 42,
   "id": "f2593da4",
   "metadata": {},
   "outputs": [
    {
     "data": {
      "text/plain": [
       "array([1, 2, 3, 4, 5, 6])"
      ]
     },
     "execution_count": 42,
     "metadata": {},
     "output_type": "execute_result"
    }
   ],
   "source": [
    "arr2"
   ]
  },
  {
   "cell_type": "code",
   "execution_count": 111,
   "id": "e9cafe61",
   "metadata": {},
   "outputs": [
    {
     "data": {
      "text/plain": [
       "array([ 2,  4,  6,  8, 10, 12])"
      ]
     },
     "execution_count": 111,
     "metadata": {},
     "output_type": "execute_result"
    }
   ],
   "source": [
    "arr2+arr1"
   ]
  },
  {
   "cell_type": "code",
   "execution_count": 44,
   "id": "b9b159ab",
   "metadata": {},
   "outputs": [
    {
     "data": {
      "text/plain": [
       "array([[7, 6, 2],\n",
       "       [8, 1, 1],\n",
       "       [8, 7, 2]])"
      ]
     },
     "execution_count": 44,
     "metadata": {},
     "output_type": "execute_result"
    }
   ],
   "source": [
    "arr_2d=np.random.randint(1,10,(3,3))\n",
    "arr_2d"
   ]
  },
  {
   "cell_type": "code",
   "execution_count": 116,
   "id": "6a5cb0c4",
   "metadata": {},
   "outputs": [
    {
     "data": {
      "text/plain": [
       "array([[1, 3, 1],\n",
       "       [6, 9, 4],\n",
       "       [9, 1, 3]])"
      ]
     },
     "execution_count": 116,
     "metadata": {},
     "output_type": "execute_result"
    }
   ],
   "source": [
    "arr_2d_=np.random.randint(1,10,(3,3))\n",
    "arr_2d_"
   ]
  },
  {
   "cell_type": "code",
   "execution_count": 117,
   "id": "2c6ac17e",
   "metadata": {},
   "outputs": [
    {
     "data": {
      "text/plain": [
       "4.111111111111111"
      ]
     },
     "execution_count": 117,
     "metadata": {},
     "output_type": "execute_result"
    }
   ],
   "source": [
    "arr_2d_.mean()"
   ]
  },
  {
   "cell_type": "markdown",
   "id": "47452b3f",
   "metadata": {},
   "source": [
    "# Array Manipulation"
   ]
  },
  {
   "cell_type": "code",
   "execution_count": null,
   "id": "f3fdc9d9",
   "metadata": {},
   "outputs": [],
   "source": [
    "# transpose\n",
    "# reshape\n",
    "# resize\n",
    "# flatten"
   ]
  },
  {
   "cell_type": "code",
   "execution_count": 119,
   "id": "59b44092",
   "metadata": {},
   "outputs": [
    {
     "data": {
      "text/plain": [
       "array([[1, 3, 1],\n",
       "       [6, 9, 4],\n",
       "       [9, 1, 3]])"
      ]
     },
     "execution_count": 119,
     "metadata": {},
     "output_type": "execute_result"
    }
   ],
   "source": [
    "arr_2d_"
   ]
  },
  {
   "cell_type": "code",
   "execution_count": 120,
   "id": "b9007505",
   "metadata": {},
   "outputs": [
    {
     "data": {
      "text/plain": [
       "array([[1, 6, 9],\n",
       "       [3, 9, 1],\n",
       "       [1, 4, 3]])"
      ]
     },
     "execution_count": 120,
     "metadata": {},
     "output_type": "execute_result"
    }
   ],
   "source": [
    "np.transpose(arr_2d_)"
   ]
  },
  {
   "cell_type": "code",
   "execution_count": 2,
   "id": "550062dd",
   "metadata": {},
   "outputs": [],
   "source": [
    "import numpy as np"
   ]
  },
  {
   "cell_type": "code",
   "execution_count": 121,
   "id": "dc077718",
   "metadata": {},
   "outputs": [
    {
     "data": {
      "text/plain": [
       "array([ 1,  2,  3,  4,  5,  6,  7,  8,  9, 10, 11, 12, 13, 14, 15, 16, 17,\n",
       "       18, 19, 20, 21, 22, 23, 24])"
      ]
     },
     "execution_count": 121,
     "metadata": {},
     "output_type": "execute_result"
    }
   ],
   "source": [
    "arr=np.arange(1,25)\n",
    "arr"
   ]
  },
  {
   "cell_type": "code",
   "execution_count": 126,
   "id": "7bc40574",
   "metadata": {},
   "outputs": [],
   "source": [
    "reshaped_arr=np.reshape(arr,(8,3))"
   ]
  },
  {
   "cell_type": "code",
   "execution_count": 127,
   "id": "e1968c75",
   "metadata": {},
   "outputs": [
    {
     "data": {
      "text/plain": [
       "array([[ 1,  2,  3],\n",
       "       [ 4,  5,  6],\n",
       "       [ 7,  8,  9],\n",
       "       [10, 11, 12],\n",
       "       [13, 14, 15],\n",
       "       [16, 17, 18],\n",
       "       [19, 20, 21],\n",
       "       [22, 23, 24]])"
      ]
     },
     "execution_count": 127,
     "metadata": {},
     "output_type": "execute_result"
    }
   ],
   "source": [
    "reshaped_arr"
   ]
  },
  {
   "cell_type": "code",
   "execution_count": 9,
   "id": "09703a04",
   "metadata": {},
   "outputs": [
    {
     "data": {
      "text/plain": [
       "array([[ 1,  2,  3,  4],\n",
       "       [ 5,  6,  7,  8],\n",
       "       [ 9, 10, 11, 12],\n",
       "       [13, 14, 15, 16],\n",
       "       [17, 18, 19, 20],\n",
       "       [21, 22, 23, 24]])"
      ]
     },
     "execution_count": 9,
     "metadata": {},
     "output_type": "execute_result"
    }
   ],
   "source": [
    "np.reshape(arr,(6,4))"
   ]
  },
  {
   "cell_type": "code",
   "execution_count": 129,
   "id": "683b13a1",
   "metadata": {},
   "outputs": [
    {
     "data": {
      "text/plain": [
       "array([ 1,  2,  3,  4,  5,  6,  7,  8,  9, 10, 11, 12, 13, 14, 15, 16, 17,\n",
       "       18, 19, 20, 21, 22, 23, 24])"
      ]
     },
     "execution_count": 129,
     "metadata": {},
     "output_type": "execute_result"
    }
   ],
   "source": [
    "arr"
   ]
  },
  {
   "cell_type": "code",
   "execution_count": 133,
   "id": "b25196f0",
   "metadata": {},
   "outputs": [],
   "source": [
    "arr.resize(6,4)"
   ]
  },
  {
   "cell_type": "code",
   "execution_count": 134,
   "id": "c505061a",
   "metadata": {},
   "outputs": [
    {
     "data": {
      "text/plain": [
       "array([[ 1,  2,  3,  4],\n",
       "       [ 5,  6,  7,  8],\n",
       "       [ 9, 10, 11, 12],\n",
       "       [13, 14, 15, 16],\n",
       "       [17, 18, 19, 20],\n",
       "       [21, 22, 23, 24]])"
      ]
     },
     "execution_count": 134,
     "metadata": {},
     "output_type": "execute_result"
    }
   ],
   "source": [
    "arr"
   ]
  },
  {
   "cell_type": "code",
   "execution_count": 135,
   "id": "a1dda002",
   "metadata": {},
   "outputs": [
    {
     "data": {
      "text/plain": [
       "array([[ 1,  2,  3,  4],\n",
       "       [ 5,  6,  7,  8],\n",
       "       [ 9, 10, 11, 12],\n",
       "       [13, 14, 15, 16],\n",
       "       [17, 18, 19, 20],\n",
       "       [21, 22, 23, 24]])"
      ]
     },
     "execution_count": 135,
     "metadata": {},
     "output_type": "execute_result"
    }
   ],
   "source": [
    "arr"
   ]
  },
  {
   "cell_type": "code",
   "execution_count": 136,
   "id": "daec4fba",
   "metadata": {},
   "outputs": [
    {
     "data": {
      "text/plain": [
       "array([ 1,  2,  3,  4,  5,  6,  7,  8,  9, 10, 11, 12, 13, 14, 15, 16, 17,\n",
       "       18, 19, 20, 21, 22, 23, 24])"
      ]
     },
     "execution_count": 136,
     "metadata": {},
     "output_type": "execute_result"
    }
   ],
   "source": [
    "arr.flatten()"
   ]
  },
  {
   "cell_type": "code",
   "execution_count": 138,
   "id": "21cffc0c",
   "metadata": {},
   "outputs": [
    {
     "data": {
      "text/plain": [
       "array([[ 1,  2,  3,  4],\n",
       "       [ 5,  6,  7,  8],\n",
       "       [ 9, 10, 11, 12],\n",
       "       [13, 14, 15, 16],\n",
       "       [17, 18, 19, 20],\n",
       "       [21, 22, 23, 24]])"
      ]
     },
     "execution_count": 138,
     "metadata": {},
     "output_type": "execute_result"
    }
   ],
   "source": [
    "arr"
   ]
  },
  {
   "cell_type": "code",
   "execution_count": 139,
   "id": "8158252c",
   "metadata": {},
   "outputs": [
    {
     "data": {
      "text/plain": [
       "(array([ 1,  2,  3,  4,  5,  6,  7,  8,  9, 10, 11, 12, 13, 14, 15, 16, 17,\n",
       "        18, 19, 20, 21, 22, 23, 24]),\n",
       " array([1, 1, 1, 1, 1, 1, 1, 1, 1, 1, 1, 1, 1, 1, 1, 1, 1, 1, 1, 1, 1, 1,\n",
       "        1, 1], dtype=int64))"
      ]
     },
     "execution_count": 139,
     "metadata": {},
     "output_type": "execute_result"
    }
   ],
   "source": [
    "np.unique(arr,return_counts=True)"
   ]
  },
  {
   "cell_type": "code",
   "execution_count": 71,
   "id": "2d4747a5",
   "metadata": {},
   "outputs": [
    {
     "data": {
      "text/plain": [
       "array([[ 1,  2,  3,  4],\n",
       "       [ 5,  6,  4,  8],\n",
       "       [ 9, 10, 11, 12],\n",
       "       [13, 14, 15, 16],\n",
       "       [17, 18, 19, 20],\n",
       "       [21, 22, 23, 24]])"
      ]
     },
     "execution_count": 71,
     "metadata": {},
     "output_type": "execute_result"
    }
   ],
   "source": [
    "arr"
   ]
  },
  {
   "cell_type": "code",
   "execution_count": 140,
   "id": "69a4a886",
   "metadata": {},
   "outputs": [
    {
     "data": {
      "text/plain": [
       "array([ 1,  2,  3,  4,  5,  6,  7,  8,  9, 20, 21, 22, 23, 24])"
      ]
     },
     "execution_count": 140,
     "metadata": {},
     "output_type": "execute_result"
    }
   ],
   "source": [
    "arr[(arr>=20) | (arr<10)]"
   ]
  },
  {
   "cell_type": "code",
   "execution_count": 141,
   "id": "12278b29",
   "metadata": {},
   "outputs": [],
   "source": [
    "arr1=np.random.randint(1,10,(2,3))"
   ]
  },
  {
   "cell_type": "code",
   "execution_count": 142,
   "id": "5835e28f",
   "metadata": {},
   "outputs": [],
   "source": [
    "arr2=np.random.randint(1,10,(2,3))"
   ]
  },
  {
   "cell_type": "code",
   "execution_count": 143,
   "id": "a8f03a1e",
   "metadata": {},
   "outputs": [
    {
     "data": {
      "text/plain": [
       "array([[8, 3, 6],\n",
       "       [8, 4, 6]])"
      ]
     },
     "execution_count": 143,
     "metadata": {},
     "output_type": "execute_result"
    }
   ],
   "source": [
    "arr1"
   ]
  },
  {
   "cell_type": "code",
   "execution_count": 144,
   "id": "0373e2d5",
   "metadata": {},
   "outputs": [
    {
     "data": {
      "text/plain": [
       "array([[6, 5, 1],\n",
       "       [9, 4, 3]])"
      ]
     },
     "execution_count": 144,
     "metadata": {},
     "output_type": "execute_result"
    }
   ],
   "source": [
    "arr2"
   ]
  },
  {
   "cell_type": "code",
   "execution_count": 148,
   "id": "62ff7e6e",
   "metadata": {},
   "outputs": [
    {
     "data": {
      "text/plain": [
       "array([[1.33333333, 0.6       , 6.        ],\n",
       "       [0.88888889, 1.        , 2.        ]])"
      ]
     },
     "execution_count": 148,
     "metadata": {},
     "output_type": "execute_result"
    }
   ],
   "source": [
    "np.divide(arr1,arr2)"
   ]
  },
  {
   "cell_type": "code",
   "execution_count": 149,
   "id": "bdb5b933",
   "metadata": {},
   "outputs": [],
   "source": [
    "arr1.sort()"
   ]
  },
  {
   "cell_type": "code",
   "execution_count": 150,
   "id": "f8d53c3d",
   "metadata": {},
   "outputs": [
    {
     "data": {
      "text/plain": [
       "array([[3, 6, 8],\n",
       "       [4, 6, 8]])"
      ]
     },
     "execution_count": 150,
     "metadata": {},
     "output_type": "execute_result"
    }
   ],
   "source": [
    "arr1"
   ]
  },
  {
   "cell_type": "code",
   "execution_count": 154,
   "id": "c2a18216",
   "metadata": {},
   "outputs": [
    {
     "data": {
      "text/plain": [
       "array([[3, 6, 8],\n",
       "       [4, 6, 8]])"
      ]
     },
     "execution_count": 154,
     "metadata": {},
     "output_type": "execute_result"
    }
   ],
   "source": [
    "arr1"
   ]
  },
  {
   "cell_type": "markdown",
   "id": "56e2bb27",
   "metadata": {},
   "source": [
    "#<u>**Basic Operations & Functions**</u>\n",
    "* ### <code>np.add()</code> - Adding two arrays\n",
    "* ### <code>np.subtract()</code> - Subtracting two arrays\n",
    "* ### <code>np.multiply()</code> - Multiplying two arrays\n",
    "* ### <code>np.divide()</code> - Dividing two arrays\n",
    "* ### <code>np.sum()</code> - Sum of items in an array\n",
    "* ### <code>np.min()</code> - Minimum of items in an array\n",
    "* ### <code>np.max()</code> -  Minimum of items in an array\n",
    "* ### <code>np.mean()</code> - Mean of items in an array\n",
    "* ### <code>np.sort()</code> - Sorting an array"
   ]
  },
  {
   "cell_type": "code",
   "execution_count": 155,
   "id": "48fcc274",
   "metadata": {},
   "outputs": [
    {
     "data": {
      "text/plain": [
       "array([[6, 5, 1],\n",
       "       [9, 4, 3]])"
      ]
     },
     "execution_count": 155,
     "metadata": {},
     "output_type": "execute_result"
    }
   ],
   "source": [
    "arr2"
   ]
  },
  {
   "cell_type": "code",
   "execution_count": 157,
   "id": "126f9d6a",
   "metadata": {},
   "outputs": [
    {
     "data": {
      "text/plain": [
       "array([[18, 30,  8],\n",
       "       [36, 24, 24]])"
      ]
     },
     "execution_count": 157,
     "metadata": {},
     "output_type": "execute_result"
    }
   ],
   "source": [
    "np.multiply(arr1,arr2)"
   ]
  },
  {
   "cell_type": "code",
   "execution_count": 160,
   "id": "3482f3cb",
   "metadata": {},
   "outputs": [
    {
     "data": {
      "text/plain": [
       "8"
      ]
     },
     "execution_count": 160,
     "metadata": {},
     "output_type": "execute_result"
    }
   ],
   "source": [
    "np.max(arr1)"
   ]
  },
  {
   "cell_type": "code",
   "execution_count": null,
   "id": "8b129e4b",
   "metadata": {},
   "outputs": [],
   "source": []
  },
  {
   "cell_type": "code",
   "execution_count": null,
   "id": "d7f5f381",
   "metadata": {},
   "outputs": [],
   "source": []
  }
 ],
 "metadata": {
  "kernelspec": {
   "display_name": "Python 3 (ipykernel)",
   "language": "python",
   "name": "python3"
  },
  "language_info": {
   "codemirror_mode": {
    "name": "ipython",
    "version": 3
   },
   "file_extension": ".py",
   "mimetype": "text/x-python",
   "name": "python",
   "nbconvert_exporter": "python",
   "pygments_lexer": "ipython3",
   "version": "3.11.5"
  }
 },
 "nbformat": 4,
 "nbformat_minor": 5
}
